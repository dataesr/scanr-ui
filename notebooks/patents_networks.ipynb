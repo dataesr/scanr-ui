{
 "cells": [
  {
   "cell_type": "code",
   "execution_count": 1,
   "metadata": {},
   "outputs": [],
   "source": [
    "import os\n",
    "import requests\n",
    "import pandas as pd\n",
    "from dotenv import load_dotenv"
   ]
  },
  {
   "cell_type": "code",
   "execution_count": 5,
   "metadata": {},
   "outputs": [
    {
     "data": {
      "text/plain": [
       "True"
      ]
     },
     "execution_count": 5,
     "metadata": {},
     "output_type": "execute_result"
    }
   ],
   "source": [
    "load_dotenv(\"../client/.env.local\")"
   ]
  },
  {
   "cell_type": "code",
   "execution_count": 60,
   "metadata": {},
   "outputs": [],
   "source": [
    "scanr_url = \"https://cluster-production.elasticsearch.dataesr.ovh/scanr-patents/_search\"\n",
    "scanr_key = f'Basic {os.getenv(\"VITE_API_KEY\")}'\n",
    "scanr_headers = {\"Authorization\": scanr_key}\n",
    "\n",
    "source_fields = [\"id\", \"inpadocFamily\", \"applicants\", \"inventors\", \"title\", \"cpc\", \"year\"]\n",
    "\n",
    "\n",
    "def scanr_patents(size=10, query=None, organizationId=None):\n",
    "    must = (\n",
    "        {\n",
    "            \"query_string\": {\"query\": query or \"*\"},\n",
    "        }\n",
    "        if organizationId is None\n",
    "        else {\"term\": {\"applicants.ids.id.keyword\": organizationId}}\n",
    "    )\n",
    "\n",
    "    body = {\n",
    "        \"size\": size,\n",
    "        \"_source\": source_fields,\n",
    "        \"query\": {\n",
    "            \"bool\": {\n",
    "                \"must\": [must],\n",
    "            },\n",
    "        },\n",
    "    }\n",
    "\n",
    "    res = requests.post(scanr_url, json=body, headers=scanr_headers)\n",
    "    if res.status_code == 200:\n",
    "        return res.json()\n",
    "    else:\n",
    "        print(f\"error {res.status_code}: {res.reason}\")\n",
    "        print(res.text)\n",
    "        return None"
   ]
  },
  {
   "cell_type": "code",
   "execution_count": 61,
   "metadata": {},
   "outputs": [
    {
     "data": {
      "text/plain": [
       "6595"
      ]
     },
     "execution_count": 61,
     "metadata": {},
     "output_type": "execute_result"
    }
   ],
   "source": [
    "res = scanr_patents(organizationId=\"632012100\", size=10000)\n",
    "patents = [patent.get(\"_source\") for patent in res.get(\"hits\").get(\"hits\")]\n",
    "len(patents)"
   ]
  },
  {
   "cell_type": "code",
   "execution_count": 62,
   "metadata": {},
   "outputs": [],
   "source": [
    "from itertools import combinations\n",
    "\n",
    "\n",
    "def persons_links(patents):\n",
    "    links = {}\n",
    "    for patent in patents:\n",
    "        applicants = patent.get(\"applicants\", [])\n",
    "        inventors = patent.get(\"inventors\", [])\n",
    "\n",
    "        persons = list(\n",
    "            set([applicant.get(\"name\") for applicant in applicants + inventors if applicant.get(\"type\") == \"person\"])\n",
    "        )\n",
    "        co_persons = [tuple(sorted(combination)) for combination in combinations(persons, 2)]\n",
    "\n",
    "        for co_element in co_persons:\n",
    "            link_id = \"---\".join(co_element)\n",
    "            source_id = co_element[0]\n",
    "            target_id = co_element[1]\n",
    "\n",
    "            if link_id not in links:\n",
    "                links[link_id] = {\"source_id\": source_id, \"target_id\": target_id, \"strength\": 1}\n",
    "            else:\n",
    "                links[link_id][\"strength\"] += 1\n",
    "    return links\n",
    "\n",
    "\n",
    "def organizations_links(patents):\n",
    "    links = {}\n",
    "    for patent in patents:\n",
    "        applicants = patent.get(\"applicants\", [])\n",
    "\n",
    "        organizations = list(\n",
    "            set([applicant.get(\"name\") for applicant in applicants if applicant.get(\"type\") == \"organisation\"])\n",
    "        )\n",
    "        co_organizations = [tuple(sorted(combination)) for combination in combinations(organizations, 2)]\n",
    "\n",
    "        for co_element in co_organizations:\n",
    "            link_id = \"---\".join(co_element)\n",
    "            source_id = co_element[0]\n",
    "            target_id = co_element[1]\n",
    "\n",
    "            if link_id not in links:\n",
    "                links[link_id] = {\"source_id\": source_id, \"target_id\": target_id, \"strength\": 1}\n",
    "            else:\n",
    "                links[link_id][\"strength\"] += 1\n",
    "    return links\n",
    "\n",
    "\n",
    "def cpc_links(patents, group=\"ss_classe\"):\n",
    "    links = {}\n",
    "    for patent in patents:\n",
    "        cpcs = patent.get(\"cpc\", {}).get(group, [])\n",
    "        cpcs = [f'{cpc.get(\"code\")}###{cpc.get(\"label\")}' for cpc in cpcs]\n",
    "        co_cpc = [tuple(sorted(combinations)) for combinations in combinations(cpcs, 2)]\n",
    "\n",
    "        for co_element in co_cpc:\n",
    "            link_id = \"---\".join(co_element)\n",
    "            source_name = co_element[0].split(\"###\")[1]\n",
    "            target_name = co_element[1].split(\"###\")[1]\n",
    "\n",
    "            if link_id not in links:\n",
    "                links[link_id] = {\"source_id\": source_name, \"target_id\": target_name, \"strength\": 1}\n",
    "            else:\n",
    "                links[link_id][\"strength\"] += 1\n",
    "\n",
    "    return links"
   ]
  },
  {
   "cell_type": "code",
   "execution_count": 43,
   "metadata": {},
   "outputs": [
    {
     "data": {
      "text/plain": [
       "{'De Monbrison David---Fraysse Nicolas': {'source_id': 'De Monbrison David',\n",
       "  'target_id': 'Fraysse Nicolas',\n",
       "  'strength': 1},\n",
       " 'Beynet Jean Marc---Fraysse Nicolas': {'source_id': 'Beynet Jean Marc',\n",
       "  'target_id': 'Fraysse Nicolas',\n",
       "  'strength': 1},\n",
       " 'Beynet Jean Marc---De Monbrison David': {'source_id': 'Beynet Jean Marc',\n",
       "  'target_id': 'De Monbrison David',\n",
       "  'strength': 1},\n",
       " 'Thorel Jean Noel---Thorel Jean-Noël': {'source_id': 'Thorel Jean Noel',\n",
       "  'target_id': 'Thorel Jean-Noël',\n",
       "  'strength': 1}}"
      ]
     },
     "execution_count": 43,
     "metadata": {},
     "output_type": "execute_result"
    }
   ],
   "source": [
    "persons_links(patents[0:2])"
   ]
  },
  {
   "cell_type": "code",
   "execution_count": 64,
   "metadata": {},
   "outputs": [],
   "source": [
    "df = pd.DataFrame.from_dict(cpc_links(patents, group=\"classe\"), orient=\"index\")\n",
    "df.to_json(\"patents_cpc_links.json\", orient=\"records\")"
   ]
  },
  {
   "cell_type": "code",
   "execution_count": null,
   "metadata": {},
   "outputs": [],
   "source": []
  }
 ],
 "metadata": {
  "kernelspec": {
   "display_name": "Python 3",
   "language": "python",
   "name": "python3"
  },
  "language_info": {
   "codemirror_mode": {
    "name": "ipython",
    "version": 3
   },
   "file_extension": ".py",
   "mimetype": "text/x-python",
   "name": "python",
   "nbconvert_exporter": "python",
   "pygments_lexer": "ipython3",
   "version": "3.11.5"
  },
  "orig_nbformat": 4
 },
 "nbformat": 4,
 "nbformat_minor": 2
}
