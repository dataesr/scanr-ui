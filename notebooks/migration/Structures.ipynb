{
 "cells": [
  {
   "cell_type": "code",
   "execution_count": 1,
   "id": "7e87284b",
   "metadata": {},
   "outputs": [],
   "source": [
    "import requests"
   ]
  },
  {
   "cell_type": "code",
   "execution_count": 2,
   "id": "424ac5d6",
   "metadata": {},
   "outputs": [],
   "source": [
    "previous_api_url = 'https://scanr-api.enseignementsup-recherche.gouv.fr/api/v2/structures/search'\n",
    "new_api_url = 'https://scanr.dataesr.ovh/api/scanr-organizations/_search'"
   ]
  },
  {
   "cell_type": "code",
   "execution_count": 31,
   "id": "0c9262fd",
   "metadata": {},
   "outputs": [],
   "source": [
    "user_input = 'Chimie Physique Microbiologie Environnement'"
   ]
  },
  {
   "cell_type": "markdown",
   "id": "9ee24cf8",
   "metadata": {},
   "source": [
    "## 1. Previous query"
   ]
  },
  {
   "cell_type": "code",
   "execution_count": 32,
   "id": "21bf7587",
   "metadata": {},
   "outputs": [
    {
     "data": {
      "text/plain": [
       "{'request': {'query': 'Chimie Physique Microbiologie Environnement',\n",
       "  'page': 0,\n",
       "  'pageSize': 20,\n",
       "  'lang': 'fr',\n",
       "  'searchFields': ['label', 'alias'],\n",
       "  'filters': {'kind': {'type': 'MultiValueSearchFilter',\n",
       "    'op': 'any',\n",
       "    'values': ['Structure de recherche', 'Secteur public']}},\n",
       "  'sourceFields': ['label', 'alias', 'id', 'address.city', 'kind'],\n",
       "  'aggregations': {}},\n",
       " 'total': 0,\n",
       " 'results': [],\n",
       " 'facets': [{'id': 'facet_institutions', 'entries': []},\n",
       "  {'id': 'facet_kind', 'entries': []},\n",
       "  {'id': 'facet_badges', 'entries': []},\n",
       "  {'id': 'facet_projects_types', 'entries': []},\n",
       "  {'id': 'facet_urban_hits', 'entries': []},\n",
       "  {'id': 'facet_natures', 'entries': []},\n",
       "  {'id': 'facet_level', 'entries': []},\n",
       "  {'id': 'facet_localisations', 'entries': []}]}"
      ]
     },
     "execution_count": 32,
     "metadata": {},
     "output_type": "execute_result"
    }
   ],
   "source": [
    "body = {'query': user_input,\n",
    " 'lang': 'fr',\n",
    " 'page': '0',\n",
    " 'pageSize': '20',\n",
    " 'searchFields': ['label', 'alias'],\n",
    " 'sourceFields': ['label', 'alias', 'id', 'address.city', 'kind'],\n",
    " 'filters': {'kind': {'type': 'MultiValueSearchFilter',\n",
    "   'op': 'any',\n",
    "   'values': ['Structure de recherche', 'Secteur public']}}}\n",
    "\n",
    "requests.post(previous_api_url, json=body).json()"
   ]
  },
  {
   "cell_type": "markdown",
   "id": "65b9e4b6",
   "metadata": {},
   "source": [
    "## 2. New query"
   ]
  },
  {
   "cell_type": "code",
   "execution_count": 33,
   "id": "8d695fd6",
   "metadata": {},
   "outputs": [],
   "source": [
    "# scanr web UI uses this list of fields to search in (the ^ gives a weight):\n",
    "                        # ['id^5', 'acronym.*^5',\n",
    "                        #   'externalIds.id^3',\n",
    "                        #   'alias^3',\n",
    "                        #   'label.*^3',\n",
    "                        #   'description.*^2',\n",
    "                        #   'address.city',\n",
    "                        #   'address.address',\n",
    "                        #   'address.postcode',\n",
    "                        #   'publications.id^2',\n",
    "                        #   'publications.title.default^2',\n",
    "                        #   'publications.summary.default',\n",
    "                        #   'publications.domains.label.*^2',\n",
    "                        #   'publications.domains.code^2',\n",
    "                        #   'projects.label.*^2',\n",
    "                        #   'projects.acronym.*',\n",
    "                        #   'projects.id^2',\n",
    "                        #   'badges.label.*',\n",
    "                        #   'badges.code',\n",
    "                        #   'patents.id.keyword^2',\n",
    "                        #   'patents.title.*^2',\n",
    "                        #   'agreements.type^2',\n",
    "                        #   'awards.label^2',\n",
    "                        #   'awards.summary',\n",
    "                        #   'web_content']"
   ]
  },
  {
   "cell_type": "code",
   "execution_count": 34,
   "id": "59b22b29",
   "metadata": {},
   "outputs": [],
   "source": [
    "aggregations = {'byInstitutions': {'terms': {'field': 'institutions.label.keyword', 'size': 10}}}\n",
    "# for facets, not mandatory"
   ]
  },
  {
   "cell_type": "code",
   "execution_count": 35,
   "id": "a7c3fde3",
   "metadata": {
    "scrolled": true
   },
   "outputs": [
    {
     "data": {
      "text/plain": [
       "{'took': 45,\n",
       " 'timed_out': False,\n",
       " '_shards': {'total': 1, 'successful': 1, 'skipped': 0, 'failed': 0},\n",
       " 'hits': {'total': {'value': 1, 'relation': 'eq'},\n",
       "  'max_score': 22.426054,\n",
       "  'hits': [{'_index': 'scanr-organizations-20240610',\n",
       "    '_id': 'gfnuApABoKO6HjItH2M3',\n",
       "    '_score': 22.426054,\n",
       "    '_ignored': ['publications.title.fr.keyword',\n",
       "     'publications.title.en.keyword',\n",
       "     'publications.title.default.keyword'],\n",
       "    '_source': {'id': '199412610M',\n",
       "     'label': {'en': \"Laboratoire de Chimie Physique et Microbiologie pour l'Environnement\",\n",
       "      'default': \"Laboratoire de Chimie Physique et Microbiologie pour l'Environnement\"},\n",
       "     'acronym': {'en': 'LCPME', 'default': 'LCPME'},\n",
       "     'kind': ['Secteur public', 'Structure de recherche'],\n",
       "     'address': [{'city': 'Villers-lès-Nancy'}],\n",
       "     'alias': ['UMR 7564',\n",
       "      \"Laboratoire de Chimie Physique et Microbiologie pour l'Environnement\",\n",
       "      'UMR7564',\n",
       "      'UMR 7564']}}]},\n",
       " 'aggregations': {'byInstitutions': {'doc_count_error_upper_bound': 0,\n",
       "   'sum_other_doc_count': 0,\n",
       "   'buckets': [{'key': 'Centre national de la recherche scientifique',\n",
       "     'doc_count': 1},\n",
       "    {'key': 'Ecole Pratique des Hautes Etudes Paris', 'doc_count': 1},\n",
       "    {'key': 'Université Paris sciences et lettres', 'doc_count': 1},\n",
       "    {'key': 'Université de Lorraine', 'doc_count': 1}]}}}"
      ]
     },
     "execution_count": 35,
     "metadata": {},
     "output_type": "execute_result"
    }
   ],
   "source": [
    "new_body = {\n",
    "    'query': {\n",
    "        'bool': {\n",
    "            'must': [\n",
    "                {\n",
    "                    'query_string': {\n",
    "                        'query': user_input,\n",
    "                        \"default_operator\": \"AND\",\n",
    "                        'fields': [ 'alias', 'label.*', 'acronym.*']\n",
    "\n",
    "                    }\n",
    "                }\n",
    "            ],\n",
    "            'filter': [\n",
    "                {'term': {'isFrench': True}}, \n",
    "                {'terms': {'kind.keyword': ['Structure de recherche', 'Secteur public']}}\n",
    "             ],\n",
    "         },\n",
    " },\n",
    " 'from': '0',\n",
    " 'size': '20',\n",
    " '_source': ['id', 'alias', 'label', 'acronym', 'kind', 'address.city'],\n",
    " 'aggs': aggregations\n",
    "}\n",
    "\n",
    "\n",
    "requests.post(new_api_url, json=new_body).json()"
   ]
  },
  {
   "cell_type": "code",
   "execution_count": 10,
   "id": "0a37cfd3",
   "metadata": {},
   "outputs": [
    {
     "data": {
      "text/plain": [
       "{'query': {'bool': {'must': [{'query_string': {'query': 'colloide',\n",
       "      'default_operator': 'AND',\n",
       "      'fields': ['alias', 'label.*']}}],\n",
       "   'filter': [{'term': {'isFrench': True}},\n",
       "    {'terms': {'kind.keyword': ['Structure de recherche',\n",
       "       'Secteur public']}}]}},\n",
       " 'from': '0',\n",
       " 'size': '20',\n",
       " '_source': ['id', 'alias', 'label', 'kind', 'address.city'],\n",
       " 'aggs': {'byInstitutions': {'terms': {'field': 'institutions.label.keyword',\n",
       "    'size': 10}}}}"
      ]
     },
     "execution_count": 10,
     "metadata": {},
     "output_type": "execute_result"
    }
   ],
   "source": [
    "new_body"
   ]
  },
  {
   "cell_type": "code",
   "execution_count": null,
   "id": "c17c61e6",
   "metadata": {},
   "outputs": [],
   "source": []
  },
  {
   "cell_type": "code",
   "execution_count": null,
   "id": "345c307d",
   "metadata": {},
   "outputs": [],
   "source": []
  }
 ],
 "metadata": {
  "kernelspec": {
   "display_name": "Python 3",
   "language": "python",
   "name": "python3"
  },
  "language_info": {
   "codemirror_mode": {
    "name": "ipython",
    "version": 3
   },
   "file_extension": ".py",
   "mimetype": "text/x-python",
   "name": "python",
   "nbconvert_exporter": "python",
   "pygments_lexer": "ipython3",
   "version": "3.9.18"
  }
 },
 "nbformat": 4,
 "nbformat_minor": 5
}
